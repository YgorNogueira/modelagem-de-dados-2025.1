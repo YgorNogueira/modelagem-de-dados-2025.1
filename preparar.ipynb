{
 "cells": [
  {
   "cell_type": "code",
   "execution_count": null,
   "id": "e007c9f3",
   "metadata": {},
   "outputs": [],
   "source": [
    "from pathlib import Path\n",
    "\n",
    "ARQUIVO_BRUTO  = Path(\"data\\dengon-2023-ok-1 (1).csv\")   \n",
    "ARQUIVO_LIMPO  = Path(\"dengue_clean.csv\")\n",
    "\n",
    "with ARQUIVO_BRUTO.open(encoding=\"utf-8\") as fin, \\\n",
    "     ARQUIVO_LIMPO.open(\"w\", encoding=\"utf-8\", newline=\"\") as fout:\n",
    "\n",
    "    for linha in fin:\n",
    "        linha = linha.rstrip(\"\\n\\r\")       # tira quebras de linha\n",
    "        if linha.startswith('\"') and linha.endswith('\"'):\n",
    "            linha = linha[1:-1]            # remove aspas de fora\n",
    "        if linha.endswith(\";\"):            # alguns registros terminam com vírgula\n",
    "            linha = linha[:-1]\n",
    "        fout.write(linha + \"\\n\")\n",
    "\n",
    "print(\"✅ Arquivo limpo salvo como\", ARQUIVO_LIMPO)\n"
   ]
  },
  {
   "cell_type": "code",
   "execution_count": null,
   "id": "e8efc3ae",
   "metadata": {},
   "outputs": [],
   "source": [
    "import csv\n",
    "\n",
    "IN  = \"data\\dengue_clean_2023.csv\"        # já no formato “, ” correto\n",
    "OUT = \"dengue_semicolon.csv\"    # arquivo final com ; como separador\n",
    "\n",
    "with open(IN,  newline='', encoding='utf-8') as fin, \\\n",
    "     open(OUT, 'w', newline='', encoding='utf-8') as fout:\n",
    "\n",
    "    reader = csv.reader(fin,  delimiter=',', quotechar='\"')\n",
    "    writer = csv.writer(fout, delimiter=';', quotechar='\"',\n",
    "                        quoting=csv.QUOTE_MINIMAL)\n",
    "\n",
    "    writer.writerows(reader)\n",
    "\n",
    "print(\"✅ Convertido para ponto-e-vírgula:\", OUT)\n"
   ]
  }
 ],
 "metadata": {
  "kernelspec": {
   "display_name": "Mobia",
   "language": "python",
   "name": "python3"
  },
  "language_info": {
   "name": "python",
   "version": "3.10.15"
  }
 },
 "nbformat": 4,
 "nbformat_minor": 5
}
