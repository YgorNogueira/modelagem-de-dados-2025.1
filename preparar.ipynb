{
 "cells": [
  {
   "cell_type": "code",
   "execution_count": null,
   "id": "e007c9f3",
   "metadata": {},
   "outputs": [],
   "source": [
    "from pathlib import Path\n",
    "\n",
    "ARQUIVO_BRUTO  = Path(\"data\\dengon-2023-ok-1 (1).csv\")   \n",
    "ARQUIVO_LIMPO  = Path(\"dengue_clean.csv\")\n",
    "\n",
    "with ARQUIVO_BRUTO.open(encoding=\"utf-8\") as fin, \\\n",
    "     ARQUIVO_LIMPO.open(\"w\", encoding=\"utf-8\", newline=\"\") as fout:\n",
    "\n",
    "    for linha in fin:\n",
    "        linha = linha.rstrip(\"\\n\\r\")       # tira quebras de linha\n",
    "        if linha.startswith('\"') and linha.endswith('\"'):\n",
    "            linha = linha[1:-1]            # remove aspas de fora\n",
    "        if linha.endswith(\";\"):            # alguns registros terminam com vírgula\n",
    "            linha = linha[:-1]\n",
    "        fout.write(linha + \"\\n\")\n",
    "\n",
    "print(\"✅ Arquivo limpo salvo como\", ARQUIVO_LIMPO)\n"
   ]
  },
  {
   "cell_type": "code",
   "execution_count": null,
   "id": "e8efc3ae",
   "metadata": {},
   "outputs": [],
   "source": [
    "import csv\n",
    "\n",
    "IN  = \"data\\dengue_clean_2023.csv\"        # já no formato “, ” correto\n",
    "OUT = \"dengue_semicolon.csv\"    # arquivo final com ; como separador\n",
    "\n",
    "with open(IN,  newline='', encoding='utf-8') as fin, \\\n",
    "     open(OUT, 'w', newline='', encoding='utf-8') as fout:\n",
    "\n",
    "    reader = csv.reader(fin,  delimiter=',', quotechar='\"')\n",
    "    writer = csv.writer(fout, delimiter=';', quotechar='\"',\n",
    "                        quoting=csv.QUOTE_MINIMAL)\n",
    "\n",
    "    writer.writerows(reader)\n",
    "\n",
    "print(\"✅ Convertido para ponto-e-vírgula:\", OUT)\n"
   ]
  },
  {
   "cell_type": "code",
   "execution_count": null,
   "id": "585f35c6",
   "metadata": {},
   "outputs": [
    {
     "name": "stderr",
     "output_type": "stream",
     "text": [
      "C:\\Users\\ygor.nogueira\\AppData\\Local\\Temp\\ipykernel_10564\\3165442579.py:26: DtypeWarning: Columns (0,29,30,52,53,54,58,60,61,62,64,70,82,89,99,114,115) have mixed types. Specify dtype option on import or set low_memory=False.\n",
      "  df = pd.read_csv(CSV_ENTRADA, sep=';', encoding='utf-8')\n"
     ]
    },
    {
     "name": "stdout",
     "output_type": "stream",
     "text": [
      "✅ Arquivo limpo salvo como data/database-clean.csv\n"
     ]
    }
   ],
   "source": [
    "#Limpeza Do Dataset\n",
    "\n",
    "import pandas as pd\n",
    "\n",
    "CSV_ENTRADA = \"data/database-win.csv\"\n",
    "CSV_LIMPO = \"data/database-clean.csv\"\n",
    "\n",
    "COLUNAS_PARA_REMOVER = [\n",
    "    'dt_chik_s1', 'dt_chik_s2', 'dt_prnt', 'res_chiks1', 'res_chiks2',\n",
    "    'resul_prnt', 'dt_soro', 'resul_soro', 'dt_viral', 'resul_vi_n',\n",
    "    'dt_pcr', 'resul_pcr', 'sorotipo', 'histopa_n', 'imunoh_n', 'tp_autocto',\n",
    "    'coufinf', 'copaisinf', 'comuninf', 'codisinf', 'co_bainf', 'nobaiinf',\n",
    "    'doenca_tra', 'clinc_chik', 'alrm_hi', 'alrm_plaq', 'alrm_vom', 'alrm_sang',\n",
    "    'alrm_hemat', 'alrm_abdom', 'alrm_letar', 'alrm_hepat', 'alrm_liq', 'dt_alrm',\n",
    "    'grav_pulso', 'grav_conv', 'grav_ench', 'grav_insuf', 'grav_taqui', 'grav_extre',\n",
    "    'grav_hipot', 'grav_hemat', 'grav_melen', 'grav_metro', 'grav_sang', 'grav_ast',\n",
    "    'grav_mioc', 'grav_consc', 'grav_orgao', 'dt_grav', 'mani_hemor', 'epistaxe',\n",
    "    'gengivo', 'metro', 'petequias', 'hematura', 'sangram', 'laco_n',\n",
    "    'plasmatico', 'evidencia', 'plaq_menor', 'con_fhd', 'complica', 'nu_lote_i',\n",
    "    'ds_obs', 'ddd_hosp', 'id_logrado', 'tel_hosp'\n",
    "]\n",
    "\n",
    "def remover_colunas():\n",
    "    # Lê o CSV\n",
    "\n",
    "    df = pd.read_csv(CSV_ENTRADA, sep=';', encoding='utf-8')\n",
    "\n",
    "    # Remove colunas selecionadas\n",
    "    df.drop(columns=COLUNAS_PARA_REMOVER, inplace=True, errors='ignore')\n",
    "\n",
    "    # Salva o CSV\n",
    "    df.to_csv(CSV_LIMPO, sep=';', index=False, encoding='utf-8')\n",
    "    print(\"✅ Arquivo limpo salvo como\", CSV_LIMPO)\n",
    "\n",
    "\n",
    "remover_colunas()"
   ]
  }
 ],
 "metadata": {
  "kernelspec": {
   "display_name": "Python 3",
   "language": "python",
   "name": "python3"
  },
  "language_info": {
   "codemirror_mode": {
    "name": "ipython",
    "version": 3
   },
   "file_extension": ".py",
   "mimetype": "text/x-python",
   "name": "python",
   "nbconvert_exporter": "python",
   "pygments_lexer": "ipython3",
   "version": "3.13.1"
  }
 },
 "nbformat": 4,
 "nbformat_minor": 5
}
